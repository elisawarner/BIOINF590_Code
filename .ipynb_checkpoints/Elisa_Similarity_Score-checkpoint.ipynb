{
 "cells": [
  {
   "cell_type": "markdown",
   "metadata": {},
   "source": [
    "# Similarity Score\n",
    "Code for creating similarity score"
   ]
  },
  {
   "cell_type": "code",
   "execution_count": 5,
   "metadata": {},
   "outputs": [],
   "source": [
    "import pandas as pd\n",
    "import numpy as np"
   ]
  },
  {
   "cell_type": "markdown",
   "metadata": {},
   "source": [
    "Open and View File"
   ]
  },
  {
   "cell_type": "code",
   "execution_count": 11,
   "metadata": {},
   "outputs": [
    {
     "name": "stderr",
     "output_type": "stream",
     "text": [
      "/anaconda3/lib/python3.7/site-packages/IPython/core/interactiveshell.py:2785: DtypeWarning: Columns (2115) have mixed types. Specify dtype option on import or set low_memory=False.\n",
      "  interactivity=interactivity, compiler=compiler, result=result)\n"
     ]
    },
    {
     "data": {
      "text/html": [
       "<div>\n",
       "<style scoped>\n",
       "    .dataframe tbody tr th:only-of-type {\n",
       "        vertical-align: middle;\n",
       "    }\n",
       "\n",
       "    .dataframe tbody tr th {\n",
       "        vertical-align: top;\n",
       "    }\n",
       "\n",
       "    .dataframe thead th {\n",
       "        text-align: right;\n",
       "    }\n",
       "</style>\n",
       "<table border=\"1\" class=\"dataframe\">\n",
       "  <thead>\n",
       "    <tr style=\"text-align: right;\">\n",
       "      <th></th>\n",
       "      <th>RP11-34P13.7</th>\n",
       "      <th>AL627309.1</th>\n",
       "      <th>AP006222.2</th>\n",
       "      <th>RP4-669L17.10</th>\n",
       "      <th>RP11-206L10.3</th>\n",
       "      <th>RP11-206L10.2</th>\n",
       "      <th>RP11-206L10.9</th>\n",
       "      <th>LINC00115</th>\n",
       "      <th>FAM41C</th>\n",
       "      <th>RP11-54O7.3</th>\n",
       "      <th>...</th>\n",
       "      <th>LINC00159</th>\n",
       "      <th>AP000275.65</th>\n",
       "      <th>CMP21-97G8.1</th>\n",
       "      <th>AP000322.53</th>\n",
       "      <th>AF015262.2</th>\n",
       "      <th>AF064858.7</th>\n",
       "      <th>C21orf128</th>\n",
       "      <th>AP001057.1</th>\n",
       "      <th>Simple_Relabelling</th>\n",
       "      <th>Patient_ID</th>\n",
       "    </tr>\n",
       "  </thead>\n",
       "  <tbody>\n",
       "    <tr>\n",
       "      <th>0</th>\n",
       "      <td>0.0</td>\n",
       "      <td>0.0</td>\n",
       "      <td>0.000000</td>\n",
       "      <td>0.0</td>\n",
       "      <td>0.0</td>\n",
       "      <td>0.0</td>\n",
       "      <td>0.000000</td>\n",
       "      <td>0.0</td>\n",
       "      <td>0.000000</td>\n",
       "      <td>0.0</td>\n",
       "      <td>...</td>\n",
       "      <td>0</td>\n",
       "      <td>0</td>\n",
       "      <td>0</td>\n",
       "      <td>0</td>\n",
       "      <td>0</td>\n",
       "      <td>0</td>\n",
       "      <td>0.0</td>\n",
       "      <td>0</td>\n",
       "      <td>Myeloid</td>\n",
       "      <td>181429</td>\n",
       "    </tr>\n",
       "    <tr>\n",
       "      <th>1</th>\n",
       "      <td>0.0</td>\n",
       "      <td>0.0</td>\n",
       "      <td>0.000000</td>\n",
       "      <td>0.0</td>\n",
       "      <td>0.0</td>\n",
       "      <td>0.0</td>\n",
       "      <td>0.000000</td>\n",
       "      <td>0.0</td>\n",
       "      <td>0.000000</td>\n",
       "      <td>0.0</td>\n",
       "      <td>...</td>\n",
       "      <td>0</td>\n",
       "      <td>0</td>\n",
       "      <td>0</td>\n",
       "      <td>0</td>\n",
       "      <td>0</td>\n",
       "      <td>0</td>\n",
       "      <td>0.0</td>\n",
       "      <td>0</td>\n",
       "      <td>Myeloid</td>\n",
       "      <td>181429</td>\n",
       "    </tr>\n",
       "    <tr>\n",
       "      <th>2</th>\n",
       "      <td>0.0</td>\n",
       "      <td>0.0</td>\n",
       "      <td>0.615878</td>\n",
       "      <td>0.0</td>\n",
       "      <td>0.0</td>\n",
       "      <td>0.0</td>\n",
       "      <td>0.000000</td>\n",
       "      <td>0.0</td>\n",
       "      <td>0.000000</td>\n",
       "      <td>0.0</td>\n",
       "      <td>...</td>\n",
       "      <td>0</td>\n",
       "      <td>0</td>\n",
       "      <td>0</td>\n",
       "      <td>0</td>\n",
       "      <td>0</td>\n",
       "      <td>0</td>\n",
       "      <td>0.0</td>\n",
       "      <td>0</td>\n",
       "      <td>Myeloid</td>\n",
       "      <td>181429</td>\n",
       "    </tr>\n",
       "    <tr>\n",
       "      <th>3</th>\n",
       "      <td>0.0</td>\n",
       "      <td>0.0</td>\n",
       "      <td>0.423566</td>\n",
       "      <td>0.0</td>\n",
       "      <td>0.0</td>\n",
       "      <td>0.0</td>\n",
       "      <td>0.423566</td>\n",
       "      <td>0.0</td>\n",
       "      <td>0.423566</td>\n",
       "      <td>0.0</td>\n",
       "      <td>...</td>\n",
       "      <td>0</td>\n",
       "      <td>0</td>\n",
       "      <td>0</td>\n",
       "      <td>0</td>\n",
       "      <td>0</td>\n",
       "      <td>0</td>\n",
       "      <td>0.0</td>\n",
       "      <td>0</td>\n",
       "      <td>Myeloid</td>\n",
       "      <td>181429</td>\n",
       "    </tr>\n",
       "    <tr>\n",
       "      <th>4</th>\n",
       "      <td>0.0</td>\n",
       "      <td>0.0</td>\n",
       "      <td>0.000000</td>\n",
       "      <td>0.0</td>\n",
       "      <td>0.0</td>\n",
       "      <td>0.0</td>\n",
       "      <td>0.000000</td>\n",
       "      <td>0.0</td>\n",
       "      <td>0.000000</td>\n",
       "      <td>0.0</td>\n",
       "      <td>...</td>\n",
       "      <td>0</td>\n",
       "      <td>0</td>\n",
       "      <td>0</td>\n",
       "      <td>0</td>\n",
       "      <td>0</td>\n",
       "      <td>0</td>\n",
       "      <td>0.0</td>\n",
       "      <td>0</td>\n",
       "      <td>Myeloid</td>\n",
       "      <td>181429</td>\n",
       "    </tr>\n",
       "  </tbody>\n",
       "</table>\n",
       "<p>5 rows × 22976 columns</p>\n",
       "</div>"
      ],
      "text/plain": [
       "   RP11-34P13.7  AL627309.1  AP006222.2  RP4-669L17.10  RP11-206L10.3  \\\n",
       "0           0.0         0.0    0.000000            0.0            0.0   \n",
       "1           0.0         0.0    0.000000            0.0            0.0   \n",
       "2           0.0         0.0    0.615878            0.0            0.0   \n",
       "3           0.0         0.0    0.423566            0.0            0.0   \n",
       "4           0.0         0.0    0.000000            0.0            0.0   \n",
       "\n",
       "   RP11-206L10.2  RP11-206L10.9  LINC00115    FAM41C  RP11-54O7.3  ...  \\\n",
       "0            0.0       0.000000        0.0  0.000000          0.0  ...   \n",
       "1            0.0       0.000000        0.0  0.000000          0.0  ...   \n",
       "2            0.0       0.000000        0.0  0.000000          0.0  ...   \n",
       "3            0.0       0.423566        0.0  0.423566          0.0  ...   \n",
       "4            0.0       0.000000        0.0  0.000000          0.0  ...   \n",
       "\n",
       "   LINC00159  AP000275.65  CMP21-97G8.1  AP000322.53  AF015262.2  AF064858.7  \\\n",
       "0          0            0             0            0           0           0   \n",
       "1          0            0             0            0           0           0   \n",
       "2          0            0             0            0           0           0   \n",
       "3          0            0             0            0           0           0   \n",
       "4          0            0             0            0           0           0   \n",
       "\n",
       "   C21orf128  AP001057.1  Simple_Relabelling  Patient_ID  \n",
       "0        0.0           0             Myeloid      181429  \n",
       "1        0.0           0             Myeloid      181429  \n",
       "2        0.0           0             Myeloid      181429  \n",
       "3        0.0           0             Myeloid      181429  \n",
       "4        0.0           0             Myeloid      181429  \n",
       "\n",
       "[5 rows x 22976 columns]"
      ]
     },
     "execution_count": 11,
     "metadata": {},
     "output_type": "execute_result"
    }
   ],
   "source": [
    "data_epithelial = pd.read_csv('gene_filtered_matrices_no_batch/bioinf590_project_epithelial_filt.csv')\n",
    "data.head()"
   ]
  },
  {
   "cell_type": "markdown",
   "metadata": {},
   "source": [
    "Size of file"
   ]
  },
  {
   "cell_type": "code",
   "execution_count": null,
   "metadata": {},
   "outputs": [],
   "source": [
    "data_epithelial.shape"
   ]
  },
  {
   "cell_type": "markdown",
   "metadata": {},
   "source": [
    "Types of Cells and Patients"
   ]
  },
  {
   "cell_type": "code",
   "execution_count": null,
   "metadata": {},
   "outputs": [],
   "source": [
    "cell_type_col = 'Simple_Relabelling'\n",
    "pat_col = 'Patient_ID'"
   ]
  },
  {
   "cell_type": "code",
   "execution_count": null,
   "metadata": {},
   "outputs": [],
   "source": [
    "cell_types = data_epithelial[cell_type_col].unique()\n",
    "print(len(cell_types), cell_types)\n",
    "pat_id = data_epithelial[pat_col].unique()\n",
    "print(len(pat_id))"
   ]
  },
  {
   "cell_type": "code",
   "execution_count": null,
   "metadata": {},
   "outputs": [
    {
     "name": "stdout",
     "output_type": "stream",
     "text": [
      "['181429' '19_227' '61353210' 61353210 61354770 61354830 61356750 181429\n",
      " '61354770' '61354830' '61356750'] Myeloid\n",
      "['181429' '19_227' '61353210' 61353210 61354770 61354830 61356750 181429\n",
      " '61354770' '61354830' '61356750'] Epithelial\n"
     ]
    },
    {
     "name": "stderr",
     "output_type": "stream",
     "text": [
      "/anaconda3/lib/python3.7/site-packages/ipykernel_launcher.py:10: RuntimeWarning: Degrees of freedom <= 0 for slice\n",
      "  # Remove the CWD from sys.path while we load stuff.\n",
      "/anaconda3/lib/python3.7/site-packages/numpy/lib/function_base.py:2326: RuntimeWarning: divide by zero encountered in true_divide\n",
      "  c *= np.true_divide(1, fact)\n",
      "/anaconda3/lib/python3.7/site-packages/numpy/lib/function_base.py:2326: RuntimeWarning: invalid value encountered in multiply\n",
      "  c *= np.true_divide(1, fact)\n"
     ]
    },
    {
     "name": "stdout",
     "output_type": "stream",
     "text": [
      "['181429' '19_227' '61353210' 61353210 61354770 61354830 61356750 181429\n",
      " '61354770' '61354830' '61356750'] Fibroblast\n",
      "['181429' '19_227' '61353210' 61353210 61354770 61354830 61356750 181429\n",
      " '61354770' '61354830' '61356750'] T Cell\n",
      "['181429' '19_227' '61353210' 61353210 61354770 61354830 61356750 181429\n",
      " '61354770' '61354830' '61356750'] NK\n",
      "['181429' '19_227' '61353210' 61353210 61354770 61354830 61356750 181429\n",
      " '61354770' '61354830' '61356750'] Myeloid\n",
      "['181429' '19_227' '61353210' 61353210 61354770 61354830 61356750 181429\n",
      " '61354770' '61354830' '61356750'] Epithelial\n",
      "['181429' '19_227' '61353210' 61353210 61354770 61354830 61356750 181429\n",
      " '61354770' '61354830' '61356750'] Fibroblast\n",
      "['181429' '19_227' '61353210' 61353210 61354770 61354830 61356750 181429\n",
      " '61354770' '61354830' '61356750'] T Cell\n",
      "['181429' '19_227' '61353210' 61353210 61354770 61354830 61356750 181429\n",
      " '61354770' '61354830' '61356750'] NK\n",
      "['181429' '19_227' '61353210' 61353210 61354770 61354830 61356750 181429\n",
      " '61354770' '61354830' '61356750'] Myeloid\n",
      "['181429' '19_227' '61353210' 61353210 61354770 61354830 61356750 181429\n",
      " '61354770' '61354830' '61356750'] Epithelial\n"
     ]
    },
    {
     "name": "stderr",
     "output_type": "stream",
     "text": [
      "/anaconda3/lib/python3.7/site-packages/numpy/lib/function_base.py:356: RuntimeWarning: Mean of empty slice.\n",
      "  avg = a.mean(axis)\n",
      "/anaconda3/lib/python3.7/site-packages/numpy/core/_methods.py:78: RuntimeWarning: invalid value encountered in true_divide\n",
      "  ret, rcount, out=ret, casting='unsafe', subok=False)\n"
     ]
    },
    {
     "name": "stdout",
     "output_type": "stream",
     "text": [
      "['181429' '19_227' '61353210' 61353210 61354770 61354830 61356750 181429\n",
      " '61354770' '61354830' '61356750'] Fibroblast\n",
      "['181429' '19_227' '61353210' 61353210 61354770 61354830 61356750 181429\n",
      " '61354770' '61354830' '61356750'] T Cell\n",
      "['181429' '19_227' '61353210' 61353210 61354770 61354830 61356750 181429\n",
      " '61354770' '61354830' '61356750'] NK\n",
      "['181429' '19_227' '61353210' 61353210 61354770 61354830 61356750 181429\n",
      " '61354770' '61354830' '61356750'] Myeloid\n",
      "['181429' '19_227' '61353210' 61353210 61354770 61354830 61356750 181429\n",
      " '61354770' '61354830' '61356750'] Epithelial\n",
      "['181429' '19_227' '61353210' 61353210 61354770 61354830 61356750 181429\n",
      " '61354770' '61354830' '61356750'] Fibroblast\n",
      "['181429' '19_227' '61353210' 61353210 61354770 61354830 61356750 181429\n",
      " '61354770' '61354830' '61356750'] T Cell\n",
      "['181429' '19_227' '61353210' 61353210 61354770 61354830 61356750 181429\n",
      " '61354770' '61354830' '61356750'] NK\n",
      "['181429' '19_227' '61353210' 61353210 61354770 61354830 61356750 181429\n",
      " '61354770' '61354830' '61356750'] Myeloid\n",
      "['181429' '19_227' '61353210' 61353210 61354770 61354830 61356750 181429\n",
      " '61354770' '61354830' '61356750'] Epithelial\n",
      "['181429' '19_227' '61353210' 61353210 61354770 61354830 61356750 181429\n",
      " '61354770' '61354830' '61356750'] Fibroblast\n",
      "['181429' '19_227' '61353210' 61353210 61354770 61354830 61356750 181429\n",
      " '61354770' '61354830' '61356750'] T Cell\n",
      "['181429' '19_227' '61353210' 61353210 61354770 61354830 61356750 181429\n",
      " '61354770' '61354830' '61356750'] NK\n",
      "['181429' '19_227' '61353210' 61353210 61354770 61354830 61356750 181429\n",
      " '61354770' '61354830' '61356750'] Myeloid\n",
      "['181429' '19_227' '61353210' 61353210 61354770 61354830 61356750 181429\n",
      " '61354770' '61354830' '61356750'] Epithelial\n",
      "['181429' '19_227' '61353210' 61353210 61354770 61354830 61356750 181429\n",
      " '61354770' '61354830' '61356750'] Fibroblast\n",
      "['181429' '19_227' '61353210' 61353210 61354770 61354830 61356750 181429\n",
      " '61354770' '61354830' '61356750'] T Cell\n",
      "['181429' '19_227' '61353210' 61353210 61354770 61354830 61356750 181429\n",
      " '61354770' '61354830' '61356750'] NK\n",
      "['181429' '19_227' '61353210' 61353210 61354770 61354830 61356750 181429\n",
      " '61354770' '61354830' '61356750'] Myeloid\n",
      "['181429' '19_227' '61353210' 61353210 61354770 61354830 61356750 181429\n",
      " '61354770' '61354830' '61356750'] Epithelial\n"
     ]
    }
   ],
   "source": [
    "# Partition matrices\n",
    "pat_dict = {}\n",
    "for id in pat_id:\n",
    "    pat_dict[id] = []\n",
    "    subset = data_epithelial[data_epithelial[pat_col] == id]\n",
    "    for ct in cell_types:\n",
    "        print(pat_id, ct)\n",
    "        temp_set = subset[subset[cell_type_col] == ct]  # extract subset\n",
    "        temp_set = temp_set.drop([cell_type_col, pat_col], axis = 1) # remove non-numeric columns\n",
    "        cov_set = np.cov(temp_set.T) # covariance\n",
    "        \n",
    "        pat_dict[id].append(cov_set)"
   ]
  },
  {
   "cell_type": "code",
   "execution_count": null,
   "metadata": {},
   "outputs": [],
   "source": [
    "pat_dict.keys()"
   ]
  },
  {
   "cell_type": "code",
   "execution_count": null,
   "metadata": {},
   "outputs": [],
   "source": [
    "# check patient dict\n",
    "pat_dict['181429'][4].shape"
   ]
  },
  {
   "cell_type": "code",
   "execution_count": null,
   "metadata": {},
   "outputs": [],
   "source": [
    "test = pat_dict['181429'][4]\n",
    "test = test.drop([cell_type_col, pat_col], axis = 1)\n",
    "a = np.cov(test.T)"
   ]
  },
  {
   "cell_type": "code",
   "execution_count": null,
   "metadata": {},
   "outputs": [],
   "source": [
    "a.shape"
   ]
  },
  {
   "cell_type": "code",
   "execution_count": null,
   "metadata": {},
   "outputs": [],
   "source": []
  }
 ],
 "metadata": {
  "kernelspec": {
   "display_name": "Python 3",
   "language": "python",
   "name": "python3"
  },
  "language_info": {
   "codemirror_mode": {
    "name": "ipython",
    "version": 3
   },
   "file_extension": ".py",
   "mimetype": "text/x-python",
   "name": "python",
   "nbconvert_exporter": "python",
   "pygments_lexer": "ipython3",
   "version": "3.7.2"
  }
 },
 "nbformat": 4,
 "nbformat_minor": 2
}
