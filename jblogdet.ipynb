{
 "cells": [
  {
   "cell_type": "code",
   "execution_count": 2,
   "metadata": {},
   "outputs": [],
   "source": [
    "import numpy as np\n",
    "from sksparse.cholmod import cholesky"
   ]
  },
  {
   "cell_type": "code",
   "execution_count": 1,
   "metadata": {},
   "outputs": [],
   "source": [
    "# JBLD                        Jensen-Bregman LogDet Divergence\n",
    "# \n",
    "#     div = jbld(x,y)\n",
    "#\n",
    "#     INPUTS\n",
    "#     x - [n x n] positive semi-definite matrix\n",
    "#     y - [n x n] positive semi-definite matrix\n",
    "#\n",
    "#     OUTPUTS\n",
    "#     div - Jensen-Bregman LogDet Divergence\n",
    "#\n",
    "#     REFERENCE\n",
    "#     Cherian et al (2012). Jensen-Bregman LogDet Divergence with Application \n",
    "#       to Efficient Similarity Search for Covariance Matrices. \n",
    "#       Trans Pattern Analysis & Machine Intelligence \n",
    "\n",
    "#     $ Copyright (C) 2014 Brian Lau http://www.subcortex.net/ $\n",
    "#     The full license and most recent version of the code can be found at:\n",
    "#     https://github.com/brian-lau/highdim\n",
    "#\n",
    "#     This program is free software: you can redistribute it and/or modify\n",
    "#     it under the terms of the GNU General Public License as published by\n",
    "#     the Free Software Foundation, either version 3 of the License, or\n",
    "#     (at your option) any later version.\n",
    "# \n",
    "#     This program is distributed in the hope that it will be useful,\n",
    "#     but WITHOUT ANY WARRANTY; without even the implied warranty of\n",
    "#     MERCHANTABILITY or FITNESS FOR A PARTICULAR PURPOSE.  See the\n",
    "#     GNU General Public License for more details.\n",
    "\n",
    "def jbld(x,y):\n",
    "\n",
    "    m,p = x.shape;\n",
    "    n,q = y.shape;\n",
    "\n",
    "    if (m!=n) or (p!=q):\n",
    "        print('x and y must be the same size');\n",
    "\n",
    "    cxy = cholesky(np.divide((x+y),2)) #np.linalg.cholesky((x+y)/2);\n",
    "    cx = cholesky(x) #np.linalg.cholesky(x);\n",
    "    cy = cholesky(y) #np.linalg.cholesky(y);\n",
    "\n",
    "    div = cxy.logdet() - cx.logdet() * cy.logdet()/2;\n",
    "    # ld = factor.logdet()\n",
    "    #div = np.log(np.prod(np.diag(cxy)**2)) - np.log(np.prod(np.diag(cx)**2)*np.prod(np.diag(cy)**2))/2;\n",
    "    \n",
    "    #div2 = np.log(np.linalg.det((x+y)/2)) - np.log(np.linalg.det(x*y))/2;\n",
    "    return div"
   ]
  },
  {
   "cell_type": "code",
   "execution_count": null,
   "metadata": {},
   "outputs": [],
   "source": []
  }
 ],
 "metadata": {
  "kernelspec": {
   "display_name": "Python 3",
   "language": "python",
   "name": "python3"
  },
  "language_info": {
   "codemirror_mode": {
    "name": "ipython",
    "version": 3
   },
   "file_extension": ".py",
   "mimetype": "text/x-python",
   "name": "python",
   "nbconvert_exporter": "python",
   "pygments_lexer": "ipython3",
   "version": "3.7.2"
  }
 },
 "nbformat": 4,
 "nbformat_minor": 4
}
