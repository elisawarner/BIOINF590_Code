{
 "cells": [
  {
   "cell_type": "code",
   "execution_count": 1,
   "metadata": {},
   "outputs": [],
   "source": [
    "import numpy as np\n",
    "from sksparse.cholmod import cholesky"
   ]
  },
  {
   "cell_type": "code",
   "execution_count": null,
   "metadata": {},
   "outputs": [],
   "source": [
    "# JBLD                        Jensen-Bregman LogDet Divergence\n",
    "# \n",
    "#     div = jbld(x,y)\n",
    "#\n",
    "#     INPUTS\n",
    "#     x - [n x n] positive semi-definite matrix\n",
    "#     y - [n x n] positive semi-definite matrix\n",
    "#\n",
    "#     OUTPUTS\n",
    "#     div - Jensen-Bregman LogDet Divergence\n",
    "#\n",
    "#     REFERENCE\n",
    "#     Cherian et al (2012). Jensen-Bregman LogDet Divergence with Application \n",
    "#       to Efficient Similarity Search for Covariance Matrices. \n",
    "#       Trans Pattern Analysis & Machine Intelligence\n",
    "#     Cherian et al.(2011)Efficient Similarity Search for Covariance Matrices via the Jensen-Bregman\n",
    "#       LogDet Divergence. International Conference on Computer Vision\n",
    "#\n",
    "#     AUTHOR\n",
    "#       Elisa Warner\n",
    "#       (Based on Brian Lau's Code, but made significant contribution to adjust for sparse matrices)\n",
    "#    \n",
    "#     NOTE:\n",
    "#       This code is adapted for from Brian Lau's Jensen-Bregman LogDet Divergence code in order to handle\n",
    "#     sparse covariance matrices that come from data where p >> n. This requires the sksparse package along with\n",
    "#     the CHOLMOD package (https://scikit-sparse.readthedocs.io/en/latest/cholmod.html)\n",
    "\n",
    "def jbld(x,y):\n",
    "\n",
    "    m,p = x.shape;\n",
    "    n,q = y.shape;\n",
    "\n",
    "    if (m!=n) or (p!=q):\n",
    "        print('x and y must be the same size');\n",
    "\n",
    "    cxy = cholesky(np.divide((x+y),2)) \n",
    "    cx = cholesky(x) \n",
    "    cy = cholesky(y) \n",
    "\n",
    "    div = cxy.logdet() - cx.logdet() * cy.logdet()/2;\n",
    "    return div"
   ]
  }
 ],
 "metadata": {
  "kernelspec": {
   "display_name": "Python 3",
   "language": "python",
   "name": "python3"
  },
  "language_info": {
   "codemirror_mode": {
    "name": "ipython",
    "version": 3
   },
   "file_extension": ".py",
   "mimetype": "text/x-python",
   "name": "python",
   "nbconvert_exporter": "python",
   "pygments_lexer": "ipython3",
   "version": "3.7.2"
  }
 },
 "nbformat": 4,
 "nbformat_minor": 4
}
